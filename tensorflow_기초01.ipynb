{
 "cells": [
  {
   "cell_type": "code",
   "execution_count": 2,
   "id": "75113bba",
   "metadata": {},
   "outputs": [
    {
     "data": {
      "text/plain": [
       "'2.7.0'"
      ]
     },
     "execution_count": 2,
     "metadata": {},
     "output_type": "execute_result"
    }
   ],
   "source": [
    "import tensorflow as tf\n",
    "import numpy as np\n",
    "\n",
    "tf.__version__"
   ]
  },
  {
   "cell_type": "markdown",
   "id": "c1bc41e7",
   "metadata": {},
   "source": [
    "## 01. Eager Execution (즉시 실행 모드)\n",
    "- 결과 바로 확인 가능\n",
    "\n",
    "### tf.constant( )"
   ]
  },
  {
   "cell_type": "code",
   "execution_count": 3,
   "id": "665f449a",
   "metadata": {},
   "outputs": [],
   "source": [
    "a = tf.constant(10)\n",
    "b = tf.constant(20)"
   ]
  },
  {
   "cell_type": "code",
   "execution_count": 4,
   "id": "da3b6d13",
   "metadata": {},
   "outputs": [],
   "source": [
    "c = a + b\n",
    "d = (a+b).numpy() # numpy() 메서드는 numpy 값을 리턴"
   ]
  },
  {
   "cell_type": "code",
   "execution_count": 7,
   "id": "e09eed28",
   "metadata": {},
   "outputs": [
    {
     "name": "stdout",
     "output_type": "stream",
     "text": [
      "<class 'tensorflow.python.framework.ops.EagerTensor'>\n",
      "tf.Tensor(30, shape=(), dtype=int32)\n",
      "<class 'numpy.int32'> 30\n"
     ]
    }
   ],
   "source": [
    "print(type(c))\n",
    "print(c)\n",
    "print(type(d), d)"
   ]
  },
  {
   "cell_type": "code",
   "execution_count": 9,
   "id": "1258b1fd",
   "metadata": {},
   "outputs": [],
   "source": [
    "# tf.convert_to_tenso()메서드는 numpy 값을 tensor 값으로 변환\n",
    "d_numpy_to_tensor = tf.convert_to_tensor(d)"
   ]
  },
  {
   "cell_type": "code",
   "execution_count": 10,
   "id": "69190ffe",
   "metadata": {},
   "outputs": [
    {
     "name": "stdout",
     "output_type": "stream",
     "text": [
      "<class 'tensorflow.python.framework.ops.EagerTensor'>\n",
      "tf.Tensor(30, shape=(), dtype=int32)\n"
     ]
    }
   ],
   "source": [
    "print(type(d_numpy_to_tensor))\n",
    "print(d_numpy_to_tensor)\n",
    "\n",
    "# tensor로 type이 변한 것을 볼 수 있다."
   ]
  },
  {
   "cell_type": "markdown",
   "id": "1d48045d",
   "metadata": {},
   "source": [
    "### tf.Variable( )"
   ]
  },
  {
   "cell_type": "code",
   "execution_count": 11,
   "id": "dfc05c2a",
   "metadata": {},
   "outputs": [
    {
     "name": "stdout",
     "output_type": "stream",
     "text": [
      "initial W =  [-2.1671124]\n"
     ]
    }
   ],
   "source": [
    "W = tf.Variable(tf.random.normal([1])) # 가우시안 분포\n",
    "\n",
    "print('initial W = ', W.numpy())\n",
    "\n",
    "# session 생성 없이 즉시 실행 (eager execution)\n",
    "# numpy() 메서드는 numpy 값을 리턴"
   ]
  },
  {
   "cell_type": "code",
   "execution_count": 12,
   "id": "1008ac27",
   "metadata": {},
   "outputs": [
    {
     "name": "stdout",
     "output_type": "stream",
     "text": [
      "step =  0 , W =  [-1.1671124]\n",
      "step =  1 , W =  [-0.16711235]\n"
     ]
    }
   ],
   "source": [
    "for step in range(2):\n",
    "    W = W + 1.0\n",
    "    print('step = ', step, ', W = ', W.numpy())"
   ]
  },
  {
   "cell_type": "markdown",
   "id": "e7c5a77d",
   "metadata": {},
   "source": [
    "-----\n",
    "- tf.placeholder 기능 사라짐 (tensorflow 1.x 버전에 있었음)"
   ]
  },
  {
   "cell_type": "code",
   "execution_count": 13,
   "id": "67a8f05d",
   "metadata": {},
   "outputs": [],
   "source": [
    "a = tf.constant(10)\n",
    "b = tf.constant(20)"
   ]
  },
  {
   "cell_type": "code",
   "execution_count": 14,
   "id": "94da3345",
   "metadata": {},
   "outputs": [
    {
     "name": "stdout",
     "output_type": "stream",
     "text": [
      "<class 'tensorflow.python.framework.ops.EagerTensor'>\n",
      "30\n"
     ]
    }
   ],
   "source": [
    "# 함수 정의\n",
    "def tensor_sum(x,y):\n",
    "    return x + y\n",
    "\n",
    "result = tensor_sum(a,b)\n",
    "\n",
    "print(type(result))\n",
    "print(result.numpy()) # numpy() 메서드는 numpy 값을 리턴"
   ]
  },
  {
   "cell_type": "markdown",
   "id": "303d5a9f",
   "metadata": {},
   "source": [
    "## 02. Keras\n",
    "- sequantial API 방식"
   ]
  },
  {
   "cell_type": "code",
   "execution_count": 15,
   "id": "ab8dbf04",
   "metadata": {},
   "outputs": [],
   "source": [
    "import tensorflow as tf\n",
    "\n",
    "from tensorflow.keras.models import Sequential\n",
    "from tensorflow.keras.layers import Flatten, Dense\n",
    "from tensorflow.keras.optimizers import SGD\n",
    "\n",
    "import numpy as np"
   ]
  },
  {
   "cell_type": "markdown",
   "id": "f431a686",
   "metadata": {},
   "source": [
    "### 0.데이터 생성"
   ]
  },
  {
   "cell_type": "code",
   "execution_count": 16,
   "id": "860b6536",
   "metadata": {},
   "outputs": [],
   "source": [
    "X_data = np.array([1,2,3,4,5,6])\n",
    "y_data = np.array([3,4,5,6,7,8])"
   ]
  },
  {
   "cell_type": "markdown",
   "id": "d37adcba",
   "metadata": {},
   "source": [
    "### 1. 모델 구축"
   ]
  },
  {
   "cell_type": "code",
   "execution_count": 19,
   "id": "81631e3c",
   "metadata": {},
   "outputs": [],
   "source": [
    "model = Sequential()\n",
    "\n",
    "model.add(Flatten(input_shape = (1,))) # 입력층\n",
    "\n",
    "model.add(Dense(1, activation = 'linear')) # 출력층\n",
    "\n",
    "# model.add(Dense(1, input_shape = (1,), activation  = 'linear'))"
   ]
  },
  {
   "cell_type": "markdown",
   "id": "f044bdfa",
   "metadata": {},
   "source": [
    "### 2. 모델 컴파일"
   ]
  },
  {
   "cell_type": "code",
   "execution_count": 21,
   "id": "7d37df16",
   "metadata": {},
   "outputs": [
    {
     "name": "stdout",
     "output_type": "stream",
     "text": [
      "Model: \"sequential_2\"\n",
      "_________________________________________________________________\n",
      " Layer (type)                Output Shape              Param #   \n",
      "=================================================================\n",
      " flatten (Flatten)           (None, 1)                 0         \n",
      "                                                                 \n",
      " dense (Dense)               (None, 1)                 2         \n",
      "                                                                 \n",
      "=================================================================\n",
      "Total params: 2\n",
      "Trainable params: 2\n",
      "Non-trainable params: 0\n",
      "_________________________________________________________________\n"
     ]
    }
   ],
   "source": [
    "model.compile(optimizer = SGD(learning_rate = 0.01), loss = 'mse')\n",
    "\n",
    "model.summary()"
   ]
  },
  {
   "cell_type": "markdown",
   "id": "667f5c11",
   "metadata": {},
   "source": [
    "### 3. 모델학습"
   ]
  },
  {
   "cell_type": "code",
   "execution_count": 22,
   "id": "e5d82392",
   "metadata": {},
   "outputs": [
    {
     "name": "stdout",
     "output_type": "stream",
     "text": [
      "Epoch 1/100\n",
      "1/1 [==============================] - 1s 792ms/step - loss: 1.8340\n",
      "Epoch 2/100\n",
      "1/1 [==============================] - 0s 9ms/step - loss: 1.2804\n",
      "Epoch 3/100\n",
      "1/1 [==============================] - 0s 10ms/step - loss: 1.0211\n",
      "Epoch 4/100\n",
      "1/1 [==============================] - 0s 8ms/step - loss: 0.8980\n",
      "Epoch 5/100\n",
      "1/1 [==============================] - 0s 12ms/step - loss: 0.8379\n",
      "Epoch 6/100\n",
      "1/1 [==============================] - 0s 18ms/step - loss: 0.8070\n",
      "Epoch 7/100\n",
      "1/1 [==============================] - 0s 10ms/step - loss: 0.7896\n",
      "Epoch 8/100\n",
      "1/1 [==============================] - 0s 11ms/step - loss: 0.7786\n",
      "Epoch 9/100\n",
      "1/1 [==============================] - 0s 10ms/step - loss: 0.7704\n",
      "Epoch 10/100\n",
      "1/1 [==============================] - 0s 8ms/step - loss: 0.7637\n",
      "Epoch 11/100\n",
      "1/1 [==============================] - 0s 12ms/step - loss: 0.7576\n",
      "Epoch 12/100\n",
      "1/1 [==============================] - 0s 22ms/step - loss: 0.7518\n",
      "Epoch 13/100\n",
      "1/1 [==============================] - 0s 20ms/step - loss: 0.7462\n",
      "Epoch 14/100\n",
      "1/1 [==============================] - 0s 10ms/step - loss: 0.7407\n",
      "Epoch 15/100\n",
      "1/1 [==============================] - 0s 11ms/step - loss: 0.7353\n",
      "Epoch 16/100\n",
      "1/1 [==============================] - 0s 12ms/step - loss: 0.7300\n",
      "Epoch 17/100\n",
      "1/1 [==============================] - 0s 7ms/step - loss: 0.7246\n",
      "Epoch 18/100\n",
      "1/1 [==============================] - 0s 7ms/step - loss: 0.7193\n",
      "Epoch 19/100\n",
      "1/1 [==============================] - 0s 17ms/step - loss: 0.7141\n",
      "Epoch 20/100\n",
      "1/1 [==============================] - 0s 7ms/step - loss: 0.7089\n",
      "Epoch 21/100\n",
      "1/1 [==============================] - 0s 10ms/step - loss: 0.7037\n",
      "Epoch 22/100\n",
      "1/1 [==============================] - 0s 9ms/step - loss: 0.6986\n",
      "Epoch 23/100\n",
      "1/1 [==============================] - 0s 8ms/step - loss: 0.6935\n",
      "Epoch 24/100\n",
      "1/1 [==============================] - 0s 9ms/step - loss: 0.6885\n",
      "Epoch 25/100\n",
      "1/1 [==============================] - 0s 14ms/step - loss: 0.6834\n",
      "Epoch 26/100\n",
      "1/1 [==============================] - 0s 20ms/step - loss: 0.6785\n",
      "Epoch 27/100\n",
      "1/1 [==============================] - 0s 7ms/step - loss: 0.6735\n",
      "Epoch 28/100\n",
      "1/1 [==============================] - 0s 9ms/step - loss: 0.6686\n",
      "Epoch 29/100\n",
      "1/1 [==============================] - 0s 9ms/step - loss: 0.6637\n",
      "Epoch 30/100\n",
      "1/1 [==============================] - 0s 17ms/step - loss: 0.6589\n",
      "Epoch 31/100\n",
      "1/1 [==============================] - 0s 8ms/step - loss: 0.6541\n",
      "Epoch 32/100\n",
      "1/1 [==============================] - 0s 10ms/step - loss: 0.6493\n",
      "Epoch 33/100\n",
      "1/1 [==============================] - 0s 8ms/step - loss: 0.6446\n",
      "Epoch 34/100\n",
      "1/1 [==============================] - ETA: 0s - loss: 0.639 - 0s 19ms/step - loss: 0.6399\n",
      "Epoch 35/100\n",
      "1/1 [==============================] - 0s 12ms/step - loss: 0.6353\n",
      "Epoch 36/100\n",
      "1/1 [==============================] - 0s 9ms/step - loss: 0.6306\n",
      "Epoch 37/100\n",
      "1/1 [==============================] - 0s 10ms/step - loss: 0.6260\n",
      "Epoch 38/100\n",
      "1/1 [==============================] - 0s 9ms/step - loss: 0.6215\n",
      "Epoch 39/100\n",
      "1/1 [==============================] - 0s 15ms/step - loss: 0.6169\n",
      "Epoch 40/100\n",
      "1/1 [==============================] - 0s 11ms/step - loss: 0.6125\n",
      "Epoch 41/100\n",
      "1/1 [==============================] - 0s 8ms/step - loss: 0.6080\n",
      "Epoch 42/100\n",
      "1/1 [==============================] - 0s 15ms/step - loss: 0.6036\n",
      "Epoch 43/100\n",
      "1/1 [==============================] - 0s 8ms/step - loss: 0.5992\n",
      "Epoch 44/100\n",
      "1/1 [==============================] - 0s 6ms/step - loss: 0.5948\n",
      "Epoch 45/100\n",
      "1/1 [==============================] - 0s 8ms/step - loss: 0.5905\n",
      "Epoch 46/100\n",
      "1/1 [==============================] - 0s 7ms/step - loss: 0.5862\n",
      "Epoch 47/100\n",
      "1/1 [==============================] - ETA: 0s - loss: 0.581 - 0s 8ms/step - loss: 0.5819\n",
      "Epoch 48/100\n",
      "1/1 [==============================] - 0s 17ms/step - loss: 0.5777\n",
      "Epoch 49/100\n",
      "1/1 [==============================] - 0s 10ms/step - loss: 0.5734\n",
      "Epoch 50/100\n",
      "1/1 [==============================] - 0s 10ms/step - loss: 0.5693\n",
      "Epoch 51/100\n",
      "1/1 [==============================] - 0s 10ms/step - loss: 0.5651\n",
      "Epoch 52/100\n",
      "1/1 [==============================] - 0s 22ms/step - loss: 0.5610\n",
      "Epoch 53/100\n",
      "1/1 [==============================] - 0s 9ms/step - loss: 0.5569\n",
      "Epoch 54/100\n",
      "1/1 [==============================] - 0s 8ms/step - loss: 0.5529\n",
      "Epoch 55/100\n",
      "1/1 [==============================] - 0s 9ms/step - loss: 0.5488\n",
      "Epoch 56/100\n",
      "1/1 [==============================] - 0s 68ms/step - loss: 0.5448\n",
      "Epoch 57/100\n",
      "1/1 [==============================] - 0s 13ms/step - loss: 0.5409\n",
      "Epoch 58/100\n",
      "1/1 [==============================] - 0s 12ms/step - loss: 0.5369\n",
      "Epoch 59/100\n",
      "1/1 [==============================] - 0s 16ms/step - loss: 0.5330\n",
      "Epoch 60/100\n",
      "1/1 [==============================] - 0s 41ms/step - loss: 0.5291\n",
      "Epoch 61/100\n",
      "1/1 [==============================] - 0s 9ms/step - loss: 0.5253\n",
      "Epoch 62/100\n",
      "1/1 [==============================] - 0s 8ms/step - loss: 0.5214\n",
      "Epoch 63/100\n",
      "1/1 [==============================] - 0s 11ms/step - loss: 0.5176\n",
      "Epoch 64/100\n",
      "1/1 [==============================] - 0s 14ms/step - loss: 0.5139\n",
      "Epoch 65/100\n",
      "1/1 [==============================] - 0s 9ms/step - loss: 0.5101\n",
      "Epoch 66/100\n",
      "1/1 [==============================] - 0s 9ms/step - loss: 0.5064\n",
      "Epoch 67/100\n",
      "1/1 [==============================] - 0s 10ms/step - loss: 0.5027\n",
      "Epoch 68/100\n",
      "1/1 [==============================] - 0s 30ms/step - loss: 0.4991\n",
      "Epoch 69/100\n",
      "1/1 [==============================] - 0s 10ms/step - loss: 0.4954\n",
      "Epoch 70/100\n",
      "1/1 [==============================] - 0s 9ms/step - loss: 0.4918\n",
      "Epoch 71/100\n",
      "1/1 [==============================] - 0s 8ms/step - loss: 0.4882\n",
      "Epoch 72/100\n",
      "1/1 [==============================] - 0s 9ms/step - loss: 0.4847\n",
      "Epoch 73/100\n",
      "1/1 [==============================] - 0s 7ms/step - loss: 0.4811\n",
      "Epoch 74/100\n",
      "1/1 [==============================] - 0s 10ms/step - loss: 0.4776\n",
      "Epoch 75/100\n",
      "1/1 [==============================] - 0s 8ms/step - loss: 0.4742\n",
      "Epoch 76/100\n",
      "1/1 [==============================] - 0s 8ms/step - loss: 0.4707\n",
      "Epoch 77/100\n",
      "1/1 [==============================] - 0s 13ms/step - loss: 0.4673\n",
      "Epoch 78/100\n",
      "1/1 [==============================] - 0s 8ms/step - loss: 0.4639\n",
      "Epoch 79/100\n",
      "1/1 [==============================] - 0s 9ms/step - loss: 0.4605\n",
      "Epoch 80/100\n",
      "1/1 [==============================] - 0s 9ms/step - loss: 0.4571\n",
      "Epoch 81/100\n",
      "1/1 [==============================] - 0s 33ms/step - loss: 0.4538\n",
      "Epoch 82/100\n",
      "1/1 [==============================] - 0s 16ms/step - loss: 0.4505\n",
      "Epoch 83/100\n",
      "1/1 [==============================] - 0s 10ms/step - loss: 0.4472\n",
      "Epoch 84/100\n",
      "1/1 [==============================] - 0s 11ms/step - loss: 0.4440\n",
      "Epoch 85/100\n",
      "1/1 [==============================] - 0s 12ms/step - loss: 0.4407\n",
      "Epoch 86/100\n",
      "1/1 [==============================] - 0s 7ms/step - loss: 0.4375\n",
      "Epoch 87/100\n",
      "1/1 [==============================] - 0s 8ms/step - loss: 0.4343\n",
      "Epoch 88/100\n",
      "1/1 [==============================] - 0s 10ms/step - loss: 0.4312\n",
      "Epoch 89/100\n",
      "1/1 [==============================] - 0s 7ms/step - loss: 0.4280\n",
      "Epoch 90/100\n",
      "1/1 [==============================] - 0s 8ms/step - loss: 0.4249\n",
      "Epoch 91/100\n",
      "1/1 [==============================] - 0s 11ms/step - loss: 0.4218\n",
      "Epoch 92/100\n",
      "1/1 [==============================] - 0s 10ms/step - loss: 0.4187\n",
      "Epoch 93/100\n",
      "1/1 [==============================] - 0s 11ms/step - loss: 0.4157\n",
      "Epoch 94/100\n",
      "1/1 [==============================] - 0s 11ms/step - loss: 0.4127\n",
      "Epoch 95/100\n",
      "1/1 [==============================] - 0s 9ms/step - loss: 0.4096\n",
      "Epoch 96/100\n",
      "1/1 [==============================] - 0s 31ms/step - loss: 0.4067\n",
      "Epoch 97/100\n",
      "1/1 [==============================] - 0s 10ms/step - loss: 0.4037\n",
      "Epoch 98/100\n",
      "1/1 [==============================] - 0s 17ms/step - loss: 0.4008\n",
      "Epoch 99/100\n",
      "1/1 [==============================] - 0s 8ms/step - loss: 0.3978\n",
      "Epoch 100/100\n",
      "1/1 [==============================] - 0s 9ms/step - loss: 0.3949\n"
     ]
    }
   ],
   "source": [
    "hist = model.fit(X_data, y_data, epochs = 100)"
   ]
  },
  {
   "cell_type": "markdown",
   "id": "d6333fbe",
   "metadata": {},
   "source": [
    "### 4. 모델 평가 및 예측"
   ]
  },
  {
   "cell_type": "code",
   "execution_count": 23,
   "id": "d15d41ea",
   "metadata": {},
   "outputs": [
    {
     "name": "stdout",
     "output_type": "stream",
     "text": [
      "[[-3.560969]\n",
      " [ 4.572835]\n",
      " [ 5.23954 ]\n",
      " [20.573761]\n",
      " [27.374155]]\n"
     ]
    }
   ],
   "source": [
    "result = model.predict(np.array([-3.1, 3.0, 3.5, 15.0, 20.1]))\n",
    "\n",
    "print(result)"
   ]
  },
  {
   "cell_type": "markdown",
   "id": "5b0fb77c",
   "metadata": {},
   "source": [
    "### 5. 모델저장"
   ]
  },
  {
   "cell_type": "code",
   "execution_count": null,
   "id": "f5923610",
   "metadata": {},
   "outputs": [],
   "source": []
  },
  {
   "cell_type": "markdown",
   "id": "a270d627",
   "metadata": {},
   "source": [
    "## 03. 이상분류 분제 (Binary Classification)\n",
    "- 09강"
   ]
  },
  {
   "cell_type": "code",
   "execution_count": 24,
   "id": "43902b07",
   "metadata": {},
   "outputs": [],
   "source": [
    "import tensorflow as tf\n",
    "import numpy as np"
   ]
  },
  {
   "cell_type": "code",
   "execution_count": 33,
   "id": "857a539e",
   "metadata": {},
   "outputs": [],
   "source": [
    "X_data = np.array([2,4,6,8,10,12,14,16,18,20]).astype('float32')\n",
    "y_data = np.array([0,0,0,0,0,0,1,1,1,1]).astype('float32')"
   ]
  },
  {
   "cell_type": "code",
   "execution_count": 30,
   "id": "42563fe8",
   "metadata": {},
   "outputs": [],
   "source": [
    "# 01.모델구축\n",
    "\n",
    "model = tf.keras.models.Sequential()\n",
    "\n",
    "# 은닉층 8개 노드 / # 입력층 노드 개수\n",
    "model.add(tf.keras.layers.Dense(8, input_shape = [1,], activation='sigmoid'))\n",
    "model.add(tf.keras.layers.Dense(1, activation = 'sigmoid'))"
   ]
  },
  {
   "cell_type": "code",
   "execution_count": 31,
   "id": "9f32d088",
   "metadata": {},
   "outputs": [
    {
     "name": "stdout",
     "output_type": "stream",
     "text": [
      "Model: \"sequential_4\"\n",
      "_________________________________________________________________\n",
      " Layer (type)                Output Shape              Param #   \n",
      "=================================================================\n",
      " dense_2 (Dense)             (None, 8)                 16        \n",
      "                                                                 \n",
      " dense_3 (Dense)             (None, 1)                 9         \n",
      "                                                                 \n",
      "=================================================================\n",
      "Total params: 25\n",
      "Trainable params: 25\n",
      "Non-trainable params: 0\n",
      "_________________________________________________________________\n"
     ]
    }
   ],
   "source": [
    "# 02.모델 컴파일\n",
    "model.compile(tf.keras.optimizers.SGD(learning_rate = 0.1), \n",
    "              loss = 'binary_crossentropy', metrics = ['accuracy'])\n",
    "\n",
    "model.summary()"
   ]
  },
  {
   "cell_type": "code",
   "execution_count": 34,
   "id": "74a0b8df",
   "metadata": {
    "scrolled": true
   },
   "outputs": [
    {
     "name": "stdout",
     "output_type": "stream",
     "text": [
      "Epoch 1/50\n",
      "1/1 [==============================] - 1s 1s/step - loss: 0.6600 - accuracy: 0.6000\n",
      "Epoch 2/50\n",
      "1/1 [==============================] - 0s 8ms/step - loss: 0.6485 - accuracy: 0.6000\n",
      "Epoch 3/50\n",
      "1/1 [==============================] - 0s 8ms/step - loss: 0.6384 - accuracy: 0.6000\n",
      "Epoch 4/50\n",
      "1/1 [==============================] - 0s 14ms/step - loss: 0.6295 - accuracy: 0.7000\n",
      "Epoch 5/50\n",
      "1/1 [==============================] - 0s 29ms/step - loss: 0.6218 - accuracy: 0.7000\n",
      "Epoch 6/50\n",
      "1/1 [==============================] - 0s 9ms/step - loss: 0.6151 - accuracy: 0.8000\n",
      "Epoch 7/50\n",
      "1/1 [==============================] - 0s 12ms/step - loss: 0.6094 - accuracy: 0.8000\n",
      "Epoch 8/50\n",
      "1/1 [==============================] - 0s 9ms/step - loss: 0.6044 - accuracy: 0.9000\n",
      "Epoch 9/50\n",
      "1/1 [==============================] - 0s 8ms/step - loss: 0.6000 - accuracy: 0.9000\n",
      "Epoch 10/50\n",
      "1/1 [==============================] - 0s 13ms/step - loss: 0.5962 - accuracy: 1.0000\n",
      "Epoch 11/50\n",
      "1/1 [==============================] - 0s 8ms/step - loss: 0.5930 - accuracy: 1.0000\n",
      "Epoch 12/50\n",
      "1/1 [==============================] - 0s 15ms/step - loss: 0.5901 - accuracy: 1.0000\n",
      "Epoch 13/50\n",
      "1/1 [==============================] - 0s 9ms/step - loss: 0.5876 - accuracy: 0.9000\n",
      "Epoch 14/50\n",
      "1/1 [==============================] - 0s 22ms/step - loss: 0.5855 - accuracy: 0.9000\n",
      "Epoch 15/50\n",
      "1/1 [==============================] - 0s 7ms/step - loss: 0.5835 - accuracy: 0.9000\n",
      "Epoch 16/50\n",
      "1/1 [==============================] - ETA: 0s - loss: 0.5817 - accuracy: 0.80 - 0s 7ms/step - loss: 0.5817 - accuracy: 0.8000\n",
      "Epoch 17/50\n",
      "1/1 [==============================] - 0s 8ms/step - loss: 0.5801 - accuracy: 0.8000\n",
      "Epoch 18/50\n",
      "1/1 [==============================] - 0s 8ms/step - loss: 0.5785 - accuracy: 0.8000\n",
      "Epoch 19/50\n",
      "1/1 [==============================] - 0s 14ms/step - loss: 0.5770 - accuracy: 0.8000\n",
      "Epoch 20/50\n",
      "1/1 [==============================] - 0s 7ms/step - loss: 0.5756 - accuracy: 0.8000\n",
      "Epoch 21/50\n",
      "1/1 [==============================] - 0s 7ms/step - loss: 0.5742 - accuracy: 0.8000\n",
      "Epoch 22/50\n",
      "1/1 [==============================] - 0s 8ms/step - loss: 0.5727 - accuracy: 0.8000\n",
      "Epoch 23/50\n",
      "1/1 [==============================] - 0s 12ms/step - loss: 0.5714 - accuracy: 0.8000\n",
      "Epoch 24/50\n",
      "1/1 [==============================] - 0s 12ms/step - loss: 0.5700 - accuracy: 0.8000\n",
      "Epoch 25/50\n",
      "1/1 [==============================] - 0s 11ms/step - loss: 0.5686 - accuracy: 0.8000\n",
      "Epoch 26/50\n",
      "1/1 [==============================] - 0s 8ms/step - loss: 0.5673 - accuracy: 0.8000\n",
      "Epoch 27/50\n",
      "1/1 [==============================] - 0s 13ms/step - loss: 0.5659 - accuracy: 0.8000\n",
      "Epoch 28/50\n",
      "1/1 [==============================] - 0s 7ms/step - loss: 0.5645 - accuracy: 0.8000\n",
      "Epoch 29/50\n",
      "1/1 [==============================] - 0s 13ms/step - loss: 0.5632 - accuracy: 0.8000\n",
      "Epoch 30/50\n",
      "1/1 [==============================] - 0s 10ms/step - loss: 0.5619 - accuracy: 0.8000\n",
      "Epoch 31/50\n",
      "1/1 [==============================] - 0s 11ms/step - loss: 0.5605 - accuracy: 0.8000\n",
      "Epoch 32/50\n",
      "1/1 [==============================] - 0s 12ms/step - loss: 0.5592 - accuracy: 0.8000\n",
      "Epoch 33/50\n",
      "1/1 [==============================] - 0s 7ms/step - loss: 0.5579 - accuracy: 0.8000\n",
      "Epoch 34/50\n",
      "1/1 [==============================] - 0s 8ms/step - loss: 0.5566 - accuracy: 0.8000\n",
      "Epoch 35/50\n",
      "1/1 [==============================] - 0s 18ms/step - loss: 0.5553 - accuracy: 0.8000\n",
      "Epoch 36/50\n",
      "1/1 [==============================] - 0s 9ms/step - loss: 0.5540 - accuracy: 0.8000\n",
      "Epoch 37/50\n",
      "1/1 [==============================] - 0s 11ms/step - loss: 0.5527 - accuracy: 0.8000\n",
      "Epoch 38/50\n",
      "1/1 [==============================] - 0s 8ms/step - loss: 0.5514 - accuracy: 0.8000\n",
      "Epoch 39/50\n",
      "1/1 [==============================] - 0s 10ms/step - loss: 0.5502 - accuracy: 0.8000\n",
      "Epoch 40/50\n",
      "1/1 [==============================] - 0s 16ms/step - loss: 0.5490 - accuracy: 0.8000\n",
      "Epoch 41/50\n",
      "1/1 [==============================] - 0s 8ms/step - loss: 0.5477 - accuracy: 0.8000\n",
      "Epoch 42/50\n",
      "1/1 [==============================] - 0s 7ms/step - loss: 0.5466 - accuracy: 0.8000\n",
      "Epoch 43/50\n",
      "1/1 [==============================] - 0s 8ms/step - loss: 0.5454 - accuracy: 0.8000\n",
      "Epoch 44/50\n",
      "1/1 [==============================] - 0s 9ms/step - loss: 0.5443 - accuracy: 0.8000\n",
      "Epoch 45/50\n",
      "1/1 [==============================] - 0s 7ms/step - loss: 0.5432 - accuracy: 0.8000\n",
      "Epoch 46/50\n",
      "1/1 [==============================] - 0s 24ms/step - loss: 0.5421 - accuracy: 0.8000\n",
      "Epoch 47/50\n",
      "1/1 [==============================] - 0s 8ms/step - loss: 0.5410 - accuracy: 0.8000\n",
      "Epoch 48/50\n",
      "1/1 [==============================] - 0s 10ms/step - loss: 0.5399 - accuracy: 0.8000\n",
      "Epoch 49/50\n",
      "1/1 [==============================] - 0s 8ms/step - loss: 0.5389 - accuracy: 0.8000\n",
      "Epoch 50/50\n",
      "1/1 [==============================] - 0s 13ms/step - loss: 0.5379 - accuracy: 0.8000\n"
     ]
    }
   ],
   "source": [
    "# 03. 모델 학습\n",
    "hist = model.fit(X_data, y_data, epochs = 50)"
   ]
  },
  {
   "cell_type": "code",
   "execution_count": 35,
   "id": "fc47e023",
   "metadata": {},
   "outputs": [],
   "source": [
    "# 04. 모델 검증\n",
    "\n",
    "#새로운 데이터\n",
    "X_test = np.array([0.5, 3.0, 3.5, 11.0, 13.0, 31.0])\n",
    "\n",
    "sigmoid_value = model.predict(X_test)\n",
    "\n",
    "# 코드 추가\n",
    "logical_value = tf.cast(sigmoid_value > 0.5, dtype = tf.float32)"
   ]
  },
  {
   "cell_type": "code",
   "execution_count": 37,
   "id": "cac16ad0",
   "metadata": {},
   "outputs": [
    {
     "name": "stdout",
     "output_type": "stream",
     "text": [
      "0.5 [0.19448546] [0.]\n",
      "3.0 [0.26022208] [0.]\n",
      "3.5 [0.27182573] [0.]\n",
      "11.0 [0.4215276] [0.]\n",
      "13.0 [0.4517964] [0.]\n",
      "31.0 [0.55425763] [1.]\n"
     ]
    }
   ],
   "source": [
    "for i in range(len(X_test)):\n",
    "    print(X_test[i],\n",
    "         sigmoid_value[i],\n",
    "         logical_value.numpy()[i])"
   ]
  },
  {
   "cell_type": "markdown",
   "id": "c8da990b",
   "metadata": {},
   "source": [
    "## 04.MNIST 손글씨 문제\n",
    "- 10강"
   ]
  },
  {
   "cell_type": "markdown",
   "id": "852d1090",
   "metadata": {},
   "source": [
    "## 04_1 데이터 전처리"
   ]
  },
  {
   "cell_type": "code",
   "execution_count": 39,
   "id": "139aace8",
   "metadata": {},
   "outputs": [],
   "source": [
    "from tensorflow import keras\n",
    "\n",
    "mnist = keras.datasets.mnist\n",
    "(X_train, y_train),(X_test, y_test) = mnist.load_data()"
   ]
  },
  {
   "cell_type": "code",
   "execution_count": 40,
   "id": "ee702d04",
   "metadata": {},
   "outputs": [
    {
     "data": {
      "text/plain": [
       "(60000, 28, 28)"
      ]
     },
     "execution_count": 40,
     "metadata": {},
     "output_type": "execute_result"
    }
   ],
   "source": [
    "X_train.shape"
   ]
  },
  {
   "cell_type": "code",
   "execution_count": 41,
   "id": "ebf19bfb",
   "metadata": {},
   "outputs": [
    {
     "data": {
      "text/plain": [
       "(10000, 28, 28)"
      ]
     },
     "execution_count": 41,
     "metadata": {},
     "output_type": "execute_result"
    }
   ],
   "source": [
    "X_test.shape"
   ]
  },
  {
   "cell_type": "code",
   "execution_count": 43,
   "id": "e8bf19ea",
   "metadata": {},
   "outputs": [],
   "source": [
    "# X_train"
   ]
  },
  {
   "cell_type": "code",
   "execution_count": 45,
   "id": "6125390e",
   "metadata": {},
   "outputs": [
    {
     "data": {
      "text/plain": [
       "array([5, 0, 4, ..., 5, 6, 8], dtype=uint8)"
      ]
     },
     "execution_count": 45,
     "metadata": {},
     "output_type": "execute_result"
    }
   ],
   "source": [
    "y_train"
   ]
  },
  {
   "cell_type": "code",
   "execution_count": 44,
   "id": "a21c4c71",
   "metadata": {},
   "outputs": [
    {
     "data": {
      "image/png": "[encoded data removed]",
      "text/plain": [
       "<Figure size 432x432 with 25 Axes>"
      ]
     },
     "metadata": {
      "needs_background": "light"
     },
     "output_type": "display_data"
    }
   ],
   "source": [
    "import matplotlib.pyplot as plt\n",
    "\n",
    "# 25개의 이미지 출력\n",
    "plt.figure(figsize = (6,6))\n",
    "\n",
    "for index in range(25):\n",
    "    plt.subplot(5,5, index + 1) # 5행 5열\n",
    "    plt.imshow(X_train[index], cmap = 'gray')\n",
    "    plt.axis('off')\n",
    "    # plt.title(str(y_train[index]))\n",
    "    \n",
    "plt.show()"
   ]
  },
  {
   "cell_type": "code",
   "execution_count": 48,
   "id": "d121af73",
   "metadata": {},
   "outputs": [],
   "source": [
    "# 학습 데이터 / 테스트 데이터 정규화(normalization)\n",
    "X_train = (X_train - 0.0) / (255.0 - 0.0)\n",
    "\n",
    "X_test = (X_test - 0.0) / (255.0 - 0.0)\n",
    "\n",
    "\n",
    "# 정답 데이터 원핫 인코딩\n",
    "# 0~9 까지 총 10개 숫자임으로 총 10개의 리스트 만듬 : num_classes = 10\n",
    "y_train = tf.keras.utils.to_categorical(y_train, num_classes = 10)\n",
    "\n",
    "y_test = tf.keras.utils.to_categorical(y_test, num_classes = 10)"
   ]
  },
  {
   "cell_type": "code",
   "execution_count": 76,
   "id": "4d17ceda",
   "metadata": {},
   "outputs": [],
   "source": [
    "# 01. 모델 구축\n",
    "# Functional API 해봄 \n",
    "# input해줄 거 따로 지정해줘야함 주의\n",
    "\n",
    "input_ = keras.layers.Input(shape=X_train.shape[1:])\n",
    "# 아이디어 hands-on p. 697\n",
    "hidden1 = keras.layers.Flatten()(input_)\n",
    "hidden2 = keras.layers.Dense(100, activation = 'relu')(hidden1)\n",
    "output = keras.layers.Dense(10, activation = 'softmax')(hidden2)\n",
    "\n",
    "model = keras.Model(inputs = [input_], outputs = [output])"
   ]
  },
  {
   "cell_type": "code",
   "execution_count": 77,
   "id": "1a102bfd",
   "metadata": {},
   "outputs": [
    {
     "name": "stdout",
     "output_type": "stream",
     "text": [
      "Model: \"model_10\"\n",
      "_________________________________________________________________\n",
      " Layer (type)                Output Shape              Param #   \n",
      "=================================================================\n",
      " input_13 (InputLayer)       [(None, 28, 28)]          0         \n",
      "                                                                 \n",
      " flatten_4 (Flatten)         (None, 784)               0         \n",
      "                                                                 \n",
      " dense_29 (Dense)            (None, 100)               78500     \n",
      "                                                                 \n",
      " dense_30 (Dense)            (None, 10)                1010      \n",
      "                                                                 \n",
      "=================================================================\n",
      "Total params: 79,510\n",
      "Trainable params: 79,510\n",
      "Non-trainable params: 0\n",
      "_________________________________________________________________\n"
     ]
    }
   ],
   "source": [
    "# 02.컴파일\n",
    "model.compile(optimizer = tf.keras.optimizers.Adam(learning_rate = 0.001),\n",
    "             loss = 'categorical_crossentropy', # 정답을 원핫 인코딩 방식으로 나타냈기 때문\n",
    "             metrics = ['accuracy'])\n",
    "\n",
    "model.summary()"
   ]
  },
  {
   "cell_type": "code",
   "execution_count": 78,
   "id": "9fd4ec04",
   "metadata": {},
   "outputs": [
    {
     "name": "stdout",
     "output_type": "stream",
     "text": [
      "Epoch 1/30\n",
      "1313/1313 [==============================] - 10s 7ms/step - loss: 1.4485 - accuracy: 0.6614 - val_loss: 0.8054 - val_accuracy: 0.8114\n",
      "Epoch 2/30\n",
      "1313/1313 [==============================] - 9s 7ms/step - loss: 0.6428 - accuracy: 0.8395 - val_loss: 0.5141 - val_accuracy: 0.8698\n",
      "Epoch 3/30\n",
      "1313/1313 [==============================] - 9s 7ms/step - loss: 0.4726 - accuracy: 0.8746 - val_loss: 0.4177 - val_accuracy: 0.8886\n",
      "Epoch 4/30\n",
      "1313/1313 [==============================] - 10s 7ms/step - loss: 0.4044 - accuracy: 0.8905 - val_loss: 0.3733 - val_accuracy: 0.8968\n",
      "Epoch 5/30\n",
      "1313/1313 [==============================] - 10s 8ms/step - loss: 0.3678 - accuracy: 0.8983 - val_loss: 0.3464 - val_accuracy: 0.9009\n",
      "Epoch 6/30\n",
      "1313/1313 [==============================] - 9s 7ms/step - loss: 0.3447 - accuracy: 0.9035 - val_loss: 0.3301 - val_accuracy: 0.9062\n",
      "Epoch 7/30\n",
      "1313/1313 [==============================] - 8s 6ms/step - loss: 0.3283 - accuracy: 0.9073 - val_loss: 0.3175 - val_accuracy: 0.9092\n",
      "Epoch 8/30\n",
      "1313/1313 [==============================] - 9s 7ms/step - loss: 0.3148 - accuracy: 0.9107 - val_loss: 0.3099 - val_accuracy: 0.9099\n",
      "Epoch 9/30\n",
      "1313/1313 [==============================] - 9s 7ms/step - loss: 0.3044 - accuracy: 0.9134 - val_loss: 0.2990 - val_accuracy: 0.9142\n",
      "Epoch 10/30\n",
      "1313/1313 [==============================] - 9s 7ms/step - loss: 0.2957 - accuracy: 0.9158 - val_loss: 0.2942 - val_accuracy: 0.9151\n",
      "Epoch 11/30\n",
      "1313/1313 [==============================] - 10s 7ms/step - loss: 0.2874 - accuracy: 0.9176 - val_loss: 0.2858 - val_accuracy: 0.9167\n",
      "Epoch 12/30\n",
      "1313/1313 [==============================] - 9s 7ms/step - loss: 0.2804 - accuracy: 0.9185 - val_loss: 0.2807 - val_accuracy: 0.9183\n",
      "Epoch 13/30\n",
      "1313/1313 [==============================] - 8s 6ms/step - loss: 0.2732 - accuracy: 0.9210 - val_loss: 0.2757 - val_accuracy: 0.9202\n",
      "Epoch 14/30\n",
      "1313/1313 [==============================] - 9s 7ms/step - loss: 0.2666 - accuracy: 0.9231 - val_loss: 0.2692 - val_accuracy: 0.9228\n",
      "Epoch 15/30\n",
      "1313/1313 [==============================] - 8s 6ms/step - loss: 0.2602 - accuracy: 0.9246 - val_loss: 0.2657 - val_accuracy: 0.9234\n",
      "Epoch 16/30\n",
      "1313/1313 [==============================] - 9s 7ms/step - loss: 0.2545 - accuracy: 0.9260 - val_loss: 0.2605 - val_accuracy: 0.9249\n",
      "Epoch 17/30\n",
      "1313/1313 [==============================] - 9s 7ms/step - loss: 0.2486 - accuracy: 0.9276 - val_loss: 0.2558 - val_accuracy: 0.9256\n",
      "Epoch 18/30\n",
      "1313/1313 [==============================] - 9s 7ms/step - loss: 0.2434 - accuracy: 0.9285 - val_loss: 0.2514 - val_accuracy: 0.9288\n",
      "Epoch 19/30\n",
      "1313/1313 [==============================] - 9s 7ms/step - loss: 0.2376 - accuracy: 0.9304 - val_loss: 0.2521 - val_accuracy: 0.9279\n",
      "Epoch 20/30\n",
      "1313/1313 [==============================] - 9s 7ms/step - loss: 0.2324 - accuracy: 0.9310 - val_loss: 0.2442 - val_accuracy: 0.9306\n",
      "Epoch 21/30\n",
      "1313/1313 [==============================] - 9s 7ms/step - loss: 0.2272 - accuracy: 0.9337 - val_loss: 0.2384 - val_accuracy: 0.9317\n",
      "Epoch 22/30\n",
      "1313/1313 [==============================] - 9s 7ms/step - loss: 0.2214 - accuracy: 0.9352 - val_loss: 0.2373 - val_accuracy: 0.9332\n",
      "Epoch 23/30\n",
      "1313/1313 [==============================] - 8s 6ms/step - loss: 0.2164 - accuracy: 0.9373 - val_loss: 0.2292 - val_accuracy: 0.9346\n",
      "Epoch 24/30\n",
      "1313/1313 [==============================] - 8s 6ms/step - loss: 0.2114 - accuracy: 0.9388 - val_loss: 0.2253 - val_accuracy: 0.9348\n",
      "Epoch 25/30\n",
      "1313/1313 [==============================] - 9s 7ms/step - loss: 0.2063 - accuracy: 0.9400 - val_loss: 0.2207 - val_accuracy: 0.9368\n",
      "Epoch 26/30\n",
      "1313/1313 [==============================] - 9s 7ms/step - loss: 0.2014 - accuracy: 0.9414 - val_loss: 0.2187 - val_accuracy: 0.9378\n",
      "Epoch 27/30\n",
      "1313/1313 [==============================] - 9s 7ms/step - loss: 0.1964 - accuracy: 0.9430 - val_loss: 0.2143 - val_accuracy: 0.9392\n",
      "Epoch 28/30\n",
      "1313/1313 [==============================] - 8s 6ms/step - loss: 0.1918 - accuracy: 0.9445 - val_loss: 0.2111 - val_accuracy: 0.9395\n",
      "Epoch 29/30\n",
      "1313/1313 [==============================] - 9s 7ms/step - loss: 0.1875 - accuracy: 0.9460 - val_loss: 0.2107 - val_accuracy: 0.9387\n",
      "Epoch 30/30\n",
      "1313/1313 [==============================] - 9s 7ms/step - loss: 0.1831 - accuracy: 0.9473 - val_loss: 0.2060 - val_accuracy: 0.9396\n"
     ]
    }
   ],
   "source": [
    "# 03. 모델학습\n",
    "# training data로부터 30& 비율로 validation data 생성 후 overfitting 확인\n",
    "hist = model.fit(X_train, y_train, epochs = 30, validation_split = 0.3)"
   ]
  },
  {
   "cell_type": "code",
   "execution_count": 79,
   "id": "790f02bf",
   "metadata": {},
   "outputs": [
    {
     "name": "stdout",
     "output_type": "stream",
     "text": [
      "313/313 [==============================] - 1s 4ms/step - loss: 0.1928 - accuracy: 0.9452\n"
     ]
    },
    {
     "data": {
      "text/plain": [
       "[0.19280876219272614, 0.9452000260353088]"
      ]
     },
     "execution_count": 79,
     "metadata": {},
     "output_type": "execute_result"
    }
   ],
   "source": [
    "# 04 모델 평가\n",
    "model.evaluate(X_test, y_test)"
   ]
  },
  {
   "cell_type": "code",
   "execution_count": 81,
   "id": "2a0cfad0",
   "metadata": {},
   "outputs": [
    {
     "data": {
      "image/png": "[encoded data removed]",
      "text/plain": [
       "<Figure size 576x360 with 1 Axes>"
      ]
     },
     "metadata": {
      "needs_background": "light"
     },
     "output_type": "display_data"
    }
   ],
   "source": [
    "# 04_1. 손실과 정확도\n",
    "\n",
    "import pandas as pd\n",
    "import matplotlib.pyplot as plt\n",
    "\n",
    "pd.DataFrame(hist.history).plot(figsize = (8,5))\n",
    "plt.grid(True)\n",
    "plt.gca().set_ylim(0,1) # 수직축의 범위를 [0-1] 사이로 설정\n",
    "plt.show()"
   ]
  },
  {
   "cell_type": "code",
   "execution_count": 83,
   "id": "3644d5f9",
   "metadata": {},
   "outputs": [
    {
     "data": {
      "image/png": "[encoded data removed]",
      "text/plain": [
       "<Figure size 432x288 with 1 Axes>"
      ]
     },
     "metadata": {
      "needs_background": "light"
     },
     "output_type": "display_data"
    }
   ],
   "source": [
    "plt.title('Loss Trend')\n",
    "plt.xlabel('epochs')\n",
    "plt.ylabel('loss')\n",
    "plt.grid\n",
    "\n",
    "plt.plot(hist.history['loss'], label = 'train loss')\n",
    "plt.plot(hist.history['val_loss'], label = 'validation loss')\n",
    "\n",
    "plt.legend(loc = 'best')\n",
    "\n",
    "plt.show()"
   ]
  },
  {
   "cell_type": "code",
   "execution_count": 84,
   "id": "658daec9",
   "metadata": {},
   "outputs": [
    {
     "data": {
      "image/png": "[encoded data removed]",
      "text/plain": [
       "<Figure size 432x288 with 1 Axes>"
      ]
     },
     "metadata": {
      "needs_background": "light"
     },
     "output_type": "display_data"
    }
   ],
   "source": [
    "plt.title('Accurary Trend')\n",
    "plt.xlabel('epochs')\n",
    "plt.ylabel('accuracy')\n",
    "plt.grid\n",
    "\n",
    "plt.plot(hist.history['accuracy'], label = 'train accuracy')\n",
    "plt.plot(hist.history['accuracy'], label = 'validation accuracy')\n",
    "\n",
    "plt.legend(loc = 'best')\n",
    "\n",
    "plt.show()"
   ]
  },
  {
   "cell_type": "markdown",
   "id": "017ed0d9",
   "metadata": {},
   "source": [
    "### 05. 혼동 행렬(confution matrix)"
   ]
  },
  {
   "cell_type": "code",
   "execution_count": 85,
   "id": "648643da",
   "metadata": {},
   "outputs": [],
   "source": [
    "from sklearn.metrics import confusion_matrix\n",
    "import seaborn as sns"
   ]
  },
  {
   "cell_type": "code",
   "execution_count": 89,
   "id": "15b53818",
   "metadata": {},
   "outputs": [
    {
     "data": {
      "text/plain": [
       "<Figure size 432x432 with 0 Axes>"
      ]
     },
     "metadata": {},
     "output_type": "display_data"
    }
   ],
   "source": [
    "plt.figure(figsize = (6,6))\n",
    "\n",
    "# 테스트 입력 데이터에 대한 prediction 실행\n",
    "predicted_value = model.predict(X_test) "
   ]
  },
  {
   "cell_type": "code",
   "execution_count": 90,
   "id": "04a1ccd2",
   "metadata": {},
   "outputs": [
    {
     "data": {
      "text/plain": [
       "array([[1.4851247e-04, 5.4184488e-09, 5.2371301e-04, ..., 9.9472922e-01,\n",
       "        2.5025834e-06, 3.1424503e-04],\n",
       "       [1.6370070e-03, 7.1287085e-04, 9.9240702e-01, ..., 3.5701826e-12,\n",
       "        3.8779562e-04, 2.3599865e-11],\n",
       "       [2.0507389e-06, 9.8972160e-01, 2.3997424e-03, ..., 3.2376866e-03,\n",
       "        1.0092743e-03, 1.9342726e-04],\n",
       "       ...,\n",
       "       [2.5344079e-08, 2.9405439e-07, 3.0169736e-07, ..., 2.7093943e-04,\n",
       "        1.0785981e-03, 1.0090496e-02],\n",
       "       [1.8496303e-06, 4.0858227e-05, 1.7074053e-07, ..., 2.0522245e-07,\n",
       "        2.0758273e-02, 1.8874571e-06],\n",
       "       [3.5232937e-05, 1.2083198e-10, 3.6234844e-05, ..., 5.0637411e-10,\n",
       "        9.0203690e-07, 9.8724605e-08]], dtype=float32)"
      ]
     },
     "execution_count": 90,
     "metadata": {},
     "output_type": "execute_result"
    }
   ],
   "source": [
    "predicted_value"
   ]
  },
  {
   "cell_type": "code",
   "execution_count": 98,
   "id": "24b1b67f",
   "metadata": {},
   "outputs": [
    {
     "data": {
      "text/plain": [
       "array([7, 2, 1, ..., 4, 5, 6], dtype=int64)"
      ]
     },
     "execution_count": 98,
     "metadata": {},
     "output_type": "execute_result"
    }
   ],
   "source": [
    "np.argmax(y_test, axis = -1)"
   ]
  },
  {
   "cell_type": "code",
   "execution_count": 99,
   "id": "cd5ce86e",
   "metadata": {},
   "outputs": [],
   "source": [
    "cm = confusion_matrix(np.argmax(y_test, axis = -1), # 테스트 데이터 정답\n",
    "                      np.argmax(predicted_value, axis = -1))"
   ]
  },
  {
   "cell_type": "code",
   "execution_count": 100,
   "id": "09dbd30c",
   "metadata": {},
   "outputs": [
    {
     "data": {
      "image/png": "[encoded data removed]",
      "text/plain": [
       "<Figure size 432x288 with 2 Axes>"
      ]
     },
     "metadata": {
      "needs_background": "light"
     },
     "output_type": "display_data"
    }
   ],
   "source": [
    "sns.heatmap(cm, annot = True, fmt = 'd')\n",
    "plt.show()"
   ]
  },
  {
   "cell_type": "markdown",
   "id": "90921d8c",
   "metadata": {},
   "source": [
    "- 숫자 5에 대해서 가장 혼란스러워하는 모델"
   ]
  },
  {
   "cell_type": "code",
   "execution_count": 102,
   "id": "c736e5ce",
   "metadata": {},
   "outputs": [
    {
     "name": "stdout",
     "output_type": "stream",
     "text": [
      "[[ 964    0    1    2    0    2    8    2    1    0]\n",
      " [   0 1120    2    2    1    1    3    2    4    0]\n",
      " [   4    1  977    9    8    0    7    9   15    2]\n",
      " [   2    1   13  946    1    9    2   14   18    4]\n",
      " [   2    2    5    0  937    0    9    4    3   20]\n",
      " [  10    3    4   30    6  793   13    4   21    8]\n",
      " [   8    3    2    1    8    8  922    2    4    0]\n",
      " [   2    8   18    6    2    1    0  976    1   14]\n",
      " [   5    8    5   19   10   15    9   15  885    3]\n",
      " [  10    8    1   14   20    5    1   16    2  932]]\n",
      "\n",
      "\n",
      "label = 0\t(964/980)\taccuracy = 0.984\n",
      "label = 1\t(1120/1135)\taccuracy = 0.987\n",
      "label = 2\t(977/1032)\taccuracy = 0.947\n",
      "label = 3\t(946/1010)\taccuracy = 0.937\n",
      "label = 4\t(937/982)\taccuracy = 0.954\n",
      "label = 5\t(793/892)\taccuracy = 0.889\n",
      "label = 6\t(922/958)\taccuracy = 0.962\n",
      "label = 7\t(976/1028)\taccuracy = 0.949\n",
      "label = 8\t(885/974)\taccuracy = 0.909\n",
      "label = 9\t(932/1009)\taccuracy = 0.924\n"
     ]
    }
   ],
   "source": [
    "print(cm)\n",
    "print('\\n')\n",
    "\n",
    "for i in range(10):\n",
    "    print(('label = %d\\t(%d/%d)\\taccuracy = %.3f') %(i, np.max(cm[i]), np.sum(cm[i]),\n",
    "                                                   np.max(cm[i])/np.sum(cm[i])))"
   ]
  },
  {
   "cell_type": "markdown",
   "id": "2869ff6b",
   "metadata": {},
   "source": [
    "## 05. fashion-MNIST"
   ]
  },
  {
   "cell_type": "code",
   "execution_count": 117,
   "id": "19b9a7b7",
   "metadata": {},
   "outputs": [],
   "source": [
    "# 0. 데이터 불러오기 및 확인\n",
    "fashion_mnist = keras.datasets.fashion_mnist\n",
    "(X_train, y_train),(X_test, y_test) = fashion_mnist.load_data()"
   ]
  },
  {
   "cell_type": "code",
   "execution_count": 118,
   "id": "e489baba",
   "metadata": {},
   "outputs": [
    {
     "data": {
      "image/png": "[encoded data removed]",
      "text/plain": [
       "<Figure size 432x432 with 25 Axes>"
      ]
     },
     "metadata": {
      "needs_background": "light"
     },
     "output_type": "display_data"
    }
   ],
   "source": [
    "import matplotlib.pyplot as plt\n",
    "\n",
    "# 25개의 이미지 출력\n",
    "plt.figure(figsize = (6,6))\n",
    "\n",
    "for index in range(25):\n",
    "    plt.subplot(5,5, index + 1) # 5행 5열\n",
    "    plt.imshow(X_train[index], cmap = 'gray')\n",
    "    plt.axis('off')\n",
    "    # plt.title(str(y_train[index]))\n",
    "    \n",
    "plt.show()"
   ]
  },
  {
   "cell_type": "code",
   "execution_count": 119,
   "id": "574e0c16",
   "metadata": {},
   "outputs": [],
   "source": [
    "# 학습 데이터 / 테스트 데이터 정규화(normalization)\n",
    "X_train = (X_train - 0.0) / (255.0 - 0.0)\n",
    "\n",
    "X_test = (X_test - 0.0) / (255.0 - 0.0)\n",
    "\n",
    "\n",
    "# 정답 데이터 원핫 인코딩 수행하지 않음\n",
    "# 0~9 까지 총 10개 숫자임으로 총 10개의 리스트 만듬 : num_classes = 10\n",
    "# y_train = tf.keras.utils.to_categorical(y_train, num_classes = 10)\n",
    "\n",
    "# y_test = tf.keras.utils.to_categorical(y_test, num_classes = 10)"
   ]
  },
  {
   "cell_type": "code",
   "execution_count": 123,
   "id": "b6ba1d2c",
   "metadata": {},
   "outputs": [],
   "source": [
    "# 01. 모델 구축\n",
    "# Sequencial API 해봄 \n",
    "\n",
    "model = tf.keras.Sequential()\n",
    "\n",
    "model.add(tf.keras.layers.Flatten(input_shape = X_train.shape[1:]))\n",
    "model.add(tf.keras.layers.Dense(100, activation = 'relu'))\n",
    "model.add(tf.keras.layers.Dense(10, activation = 'softmax'))"
   ]
  },
  {
   "cell_type": "code",
   "execution_count": 124,
   "id": "826fa111",
   "metadata": {},
   "outputs": [
    {
     "name": "stdout",
     "output_type": "stream",
     "text": [
      "Model: \"sequential_5\"\n",
      "_________________________________________________________________\n",
      " Layer (type)                Output Shape              Param #   \n",
      "=================================================================\n",
      " flatten_5 (Flatten)         (None, 784)               0         \n",
      "                                                                 \n",
      " dense_31 (Dense)            (None, 100)               78500     \n",
      "                                                                 \n",
      " dense_32 (Dense)            (None, 10)                1010      \n",
      "                                                                 \n",
      "=================================================================\n",
      "Total params: 79,510\n",
      "Trainable params: 79,510\n",
      "Non-trainable params: 0\n",
      "_________________________________________________________________\n"
     ]
    }
   ],
   "source": [
    "# 02.컴파일\n",
    "model.compile(optimizer = tf.keras.optimizers.Adam(learning_rate = 0.001),\n",
    "             loss = 'sparse_categorical_crossentropy', # 정답이 원핫 인코딩 방식이 아니기 때문\n",
    "             metrics = ['accuracy'])\n",
    "\n",
    "model.summary()"
   ]
  },
  {
   "cell_type": "code",
   "execution_count": 125,
   "id": "88ce0eae",
   "metadata": {},
   "outputs": [
    {
     "name": "stdout",
     "output_type": "stream",
     "text": [
      "('You must install pydot (`pip install pydot`) and install graphviz (see instructions at https://graphviz.gitlab.io/download/) ', 'for plot_model/model_to_dot to work.')\n"
     ]
    }
   ],
   "source": [
    "keras.utils.plot_model(model, \"fashion_mnist_model_solo_try.png\", show_shapes=True)"
   ]
  },
  {
   "cell_type": "code",
   "execution_count": 126,
   "id": "b2c88090",
   "metadata": {},
   "outputs": [
    {
     "name": "stdout",
     "output_type": "stream",
     "text": [
      "Epoch 1/30\n",
      "1313/1313 [==============================] - 10s 7ms/step - loss: 0.5417 - accuracy: 0.8105 - val_loss: 0.4350 - val_accuracy: 0.8473\n",
      "Epoch 2/30\n",
      "1313/1313 [==============================] - 10s 7ms/step - loss: 0.4025 - accuracy: 0.8574 - val_loss: 0.4183 - val_accuracy: 0.8539\n",
      "Epoch 3/30\n",
      "1313/1313 [==============================] - 10s 8ms/step - loss: 0.3618 - accuracy: 0.8698 - val_loss: 0.4053 - val_accuracy: 0.8495\n",
      "Epoch 4/30\n",
      "1313/1313 [==============================] - 10s 8ms/step - loss: 0.3353 - accuracy: 0.8782 - val_loss: 0.3426 - val_accuracy: 0.8769\n",
      "Epoch 5/30\n",
      "1313/1313 [==============================] - 9s 7ms/step - loss: 0.3139 - accuracy: 0.8852 - val_loss: 0.3324 - val_accuracy: 0.8796\n",
      "Epoch 6/30\n",
      "1313/1313 [==============================] - 9s 7ms/step - loss: 0.2962 - accuracy: 0.8911 - val_loss: 0.3473 - val_accuracy: 0.8728\n",
      "Epoch 7/30\n",
      "1313/1313 [==============================] - 9s 7ms/step - loss: 0.2810 - accuracy: 0.8948 - val_loss: 0.3273 - val_accuracy: 0.8811\n",
      "Epoch 8/30\n",
      "1313/1313 [==============================] - 10s 8ms/step - loss: 0.2698 - accuracy: 0.8992 - val_loss: 0.3362 - val_accuracy: 0.8795\n",
      "Epoch 9/30\n",
      "1313/1313 [==============================] - 12s 9ms/step - loss: 0.2629 - accuracy: 0.9014 - val_loss: 0.3208 - val_accuracy: 0.8843\n",
      "Epoch 10/30\n",
      "1313/1313 [==============================] - 10s 8ms/step - loss: 0.2512 - accuracy: 0.9065 - val_loss: 0.3220 - val_accuracy: 0.8859\n",
      "Epoch 11/30\n",
      "1313/1313 [==============================] - 12s 9ms/step - loss: 0.2401 - accuracy: 0.9103 - val_loss: 0.3188 - val_accuracy: 0.8853\n",
      "Epoch 12/30\n",
      "1313/1313 [==============================] - 12s 9ms/step - loss: 0.2320 - accuracy: 0.9130 - val_loss: 0.3230 - val_accuracy: 0.8882\n",
      "Epoch 13/30\n",
      "1313/1313 [==============================] - 11s 8ms/step - loss: 0.2247 - accuracy: 0.9166 - val_loss: 0.3500 - val_accuracy: 0.8776\n",
      "Epoch 14/30\n",
      "1313/1313 [==============================] - 8s 6ms/step - loss: 0.2190 - accuracy: 0.9177 - val_loss: 0.3302 - val_accuracy: 0.8832\n",
      "Epoch 15/30\n",
      "1313/1313 [==============================] - 9s 7ms/step - loss: 0.2120 - accuracy: 0.9193 - val_loss: 0.3289 - val_accuracy: 0.88650s - loss:\n",
      "Epoch 16/30\n",
      "1313/1313 [==============================] - 7s 5ms/step - loss: 0.2076 - accuracy: 0.9225 - val_loss: 0.3438 - val_accuracy: 0.8843\n",
      "Epoch 17/30\n",
      "1313/1313 [==============================] - 7s 6ms/step - loss: 0.2028 - accuracy: 0.9240 - val_loss: 0.3182 - val_accuracy: 0.8933\n",
      "Epoch 18/30\n",
      "1313/1313 [==============================] - 7s 5ms/step - loss: 0.1941 - accuracy: 0.9258 - val_loss: 0.3225 - val_accuracy: 0.8908\n",
      "Epoch 19/30\n",
      "1313/1313 [==============================] - 8s 6ms/step - loss: 0.1889 - accuracy: 0.9284 - val_loss: 0.3305 - val_accuracy: 0.8908\n",
      "Epoch 20/30\n",
      "1313/1313 [==============================] - 8s 6ms/step - loss: 0.1846 - accuracy: 0.9301 - val_loss: 0.3859 - val_accuracy: 0.8753\n",
      "Epoch 21/30\n",
      "1313/1313 [==============================] - 8s 6ms/step - loss: 0.1780 - accuracy: 0.9317 - val_loss: 0.3611 - val_accuracy: 0.8847\n",
      "Epoch 22/30\n",
      "1313/1313 [==============================] - 8s 6ms/step - loss: 0.1752 - accuracy: 0.9345 - val_loss: 0.3301 - val_accuracy: 0.8878\n",
      "Epoch 23/30\n",
      "1313/1313 [==============================] - 9s 7ms/step - loss: 0.1715 - accuracy: 0.9362 - val_loss: 0.3589 - val_accuracy: 0.8869\n",
      "Epoch 24/30\n",
      "1313/1313 [==============================] - 8s 6ms/step - loss: 0.1673 - accuracy: 0.9371 - val_loss: 0.3580 - val_accuracy: 0.8862\n",
      "Epoch 25/30\n",
      "1313/1313 [==============================] - 9s 7ms/step - loss: 0.1619 - accuracy: 0.9394 - val_loss: 0.3548 - val_accuracy: 0.8919\n",
      "Epoch 26/30\n",
      "1313/1313 [==============================] - 10s 8ms/step - loss: 0.1577 - accuracy: 0.9411 - val_loss: 0.3555 - val_accuracy: 0.8929\n",
      "Epoch 27/30\n",
      "1313/1313 [==============================] - 10s 8ms/step - loss: 0.1550 - accuracy: 0.9430 - val_loss: 0.3886 - val_accuracy: 0.8843\n",
      "Epoch 28/30\n",
      "1313/1313 [==============================] - 9s 7ms/step - loss: 0.1516 - accuracy: 0.9418 - val_loss: 0.3805 - val_accuracy: 0.8866\n",
      "Epoch 29/30\n",
      "1313/1313 [==============================] - 11s 8ms/step - loss: 0.1473 - accuracy: 0.9456 - val_loss: 0.3757 - val_accuracy: 0.8917\n",
      "Epoch 30/30\n",
      "1313/1313 [==============================] - 10s 8ms/step - loss: 0.1422 - accuracy: 0.9471 - val_loss: 0.4002 - val_accuracy: 0.8841\n"
     ]
    }
   ],
   "source": [
    "# 03. 모델학습\n",
    "# training data로부터 30& 비율로 validation data 생성 후 overfitting 확인\n",
    "hist = model.fit(X_train, y_train, epochs = 30, validation_split = 0.3)"
   ]
  },
  {
   "cell_type": "code",
   "execution_count": 129,
   "id": "81c9e1c3",
   "metadata": {},
   "outputs": [
    {
     "name": "stdout",
     "output_type": "stream",
     "text": [
      "313/313 [==============================] - 1s 4ms/step - loss: 0.4438 - accuracy: 0.8769: 0s - loss: 0.4508 - accuracy: \n"
     ]
    },
    {
     "data": {
      "text/plain": [
       "[0.44383949041366577, 0.8769000172615051]"
      ]
     },
     "execution_count": 129,
     "metadata": {},
     "output_type": "execute_result"
    }
   ],
   "source": [
    "# 04 모델 평가\n",
    "model.evaluate(X_test, y_test)"
   ]
  },
  {
   "cell_type": "code",
   "execution_count": 131,
   "id": "dd08498b",
   "metadata": {},
   "outputs": [
    {
     "data": {
      "image/png": "[encoded data removed]",
      "text/plain": [
       "<Figure size 576x360 with 1 Axes>"
      ]
     },
     "metadata": {
      "needs_background": "light"
     },
     "output_type": "display_data"
    }
   ],
   "source": [
    "import pandas as pd\n",
    "import matplotlib.pyplot as plt\n",
    "\n",
    "pd.DataFrame(hist.history).plot(figsize = (8,5))\n",
    "plt.grid(True)\n",
    "plt.gca().set_ylim(0,1) # 수직축의 범위를 [0-1] 사이로 설정\n",
    "plt.show()"
   ]
  },
  {
   "cell_type": "markdown",
   "id": "12550b89",
   "metadata": {},
   "source": [
    "### 05. 혼동 행렬(confution matrix)"
   ]
  },
  {
   "cell_type": "code",
   "execution_count": 132,
   "id": "ccca0791",
   "metadata": {},
   "outputs": [
    {
     "data": {
      "image/png": "[encoded data removed]",
      "text/plain": [
       "<Figure size 432x432 with 2 Axes>"
      ]
     },
     "metadata": {
      "needs_background": "light"
     },
     "output_type": "display_data"
    }
   ],
   "source": [
    "from sklearn.metrics import confusion_matrix\n",
    "import seaborn as sns\n",
    "\n",
    "plt.figure(figsize = (6,6))\n",
    "\n",
    "# 테스트 입력 데이터에 대한 prediction 실행\n",
    "predicted_value = model.predict(X_test) \n",
    "\n",
    "cm = confusion_matrix(y_test, # 테스트 데이터 정답 (5, 7 등의 10진수)\n",
    "                      np.argmax(predicted_value, axis = -1)) # 예측값이 softmax에 의해 10개(10진수)로 출력됨\n",
    "\n",
    "sns.heatmap(cm, annot = True, fmt = 'd')\n",
    "plt.show()"
   ]
  },
  {
   "cell_type": "markdown",
   "id": "238f7c69",
   "metadata": {},
   "source": [
    "- shirt에 대해서 가장 혼란스러워하는 모델"
   ]
  },
  {
   "cell_type": "code",
   "execution_count": 133,
   "id": "92c7d02d",
   "metadata": {},
   "outputs": [
    {
     "name": "stdout",
     "output_type": "stream",
     "text": [
      "[[920   3  14  11   6   1  33   2  10   0]\n",
      " [  2 978   0  12   4   0   3   1   0   0]\n",
      " [ 30   1 788  11 116   0  45   0   9   0]\n",
      " [ 40  19  12 868  32   1  22   0   6   0]\n",
      " [  2   2  79  19 839   0  51   1   7   0]\n",
      " [  0   1   0   1   0 950   0  33   3  12]\n",
      " [229   4  86  28 100   0 536   0  17   0]\n",
      " [  0   0   0   0   0   6   0 978   0  16]\n",
      " [  3   0   4   5   5   2   1   8 972   0]\n",
      " [  0   0   0   0   0  11   1  48   0 940]]\n",
      "\n",
      "\n",
      "label = 0\t(920/1000)\taccuracy = 0.920\n",
      "label = 1\t(978/1000)\taccuracy = 0.978\n",
      "label = 2\t(788/1000)\taccuracy = 0.788\n",
      "label = 3\t(868/1000)\taccuracy = 0.868\n",
      "label = 4\t(839/1000)\taccuracy = 0.839\n",
      "label = 5\t(950/1000)\taccuracy = 0.950\n",
      "label = 6\t(536/1000)\taccuracy = 0.536\n",
      "label = 7\t(978/1000)\taccuracy = 0.978\n",
      "label = 8\t(972/1000)\taccuracy = 0.972\n",
      "label = 9\t(940/1000)\taccuracy = 0.940\n"
     ]
    }
   ],
   "source": [
    "print(cm)\n",
    "print('\\n')\n",
    "\n",
    "for i in range(10):\n",
    "    print(('label = %d\\t(%d/%d)\\taccuracy = %.3f') %(i, np.max(cm[i]), np.sum(cm[i]),\n",
    "                                                   np.max(cm[i])/np.sum(cm[i])))"
   ]
  },
  {
   "cell_type": "code",
   "execution_count": null,
   "id": "5de85178",
   "metadata": {},
   "outputs": [],
   "source": []
  }
 ],
 "metadata": {
  "kernelspec": {
   "display_name": "Python 3",
   "language": "python",
   "name": "python3"
  },
  "language_info": {
   "codemirror_mode": {
    "name": "ipython",
    "version": 3
   },
   "file_extension": ".py",
   "mimetype": "text/x-python",
   "name": "python",
   "nbconvert_exporter": "python",
   "pygments_lexer": "ipython3",
   "version": "3.8.8"
  }
 },
 "nbformat": 4,
 "nbformat_minor": 5
}
